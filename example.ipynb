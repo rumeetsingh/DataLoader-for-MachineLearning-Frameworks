{
  "nbformat": 4,
  "nbformat_minor": 0,
  "metadata": {
    "colab": {
      "name": "DataLoader for Keras.ipynb",
      "version": "0.3.2",
      "provenance": []
    },
    "kernelspec": {
      "name": "python3",
      "display_name": "Python 3"
    },
    "accelerator": "GPU"
  },
  "cells": [
    {
      "metadata": {
        "id": "cNY1iLR34j9Q",
        "colab_type": "code",
        "colab": {}
      },
      "cell_type": "code",
      "source": [
        "import numpy as np\n",
        "import os\n",
        "import cv2\n",
        "from sklearn.model_selection import train_test_split\n",
        "import tensorflow as tf"
      ],
      "execution_count": 0,
      "outputs": []
    },
    {
      "metadata": {
        "id": "J5lUOY9Q43r4",
        "colab_type": "code",
        "colab": {
          "base_uri": "https://localhost:8080/",
          "height": 134
        },
        "outputId": "073952d3-4fe4-41c6-b596-d78289bf3443"
      },
      "cell_type": "code",
      "source": [
        "!git clone https://github.com/rumeetsingh/my_dataset.git"
      ],
      "execution_count": 2,
      "outputs": [
        {
          "output_type": "stream",
          "text": [
            "Cloning into 'my_dataset'...\n",
            "remote: Enumerating objects: 4869, done.\u001b[K\n",
            "remote: Counting objects: 100% (4869/4869), done.\u001b[K\n",
            "remote: Compressing objects: 100% (24/24), done.\u001b[K\n",
            "remote: Total 4869 (delta 4845), reused 4868 (delta 4844), pack-reused 0\u001b[K\n",
            "Receiving objects: 100% (4869/4869), 831.47 KiB | 1.07 MiB/s, done.\n",
            "Resolving deltas: 100% (4845/4845), done.\n"
          ],
          "name": "stdout"
        }
      ]
    },
    {
      "metadata": {
        "id": "SMyDkR5DhQMI",
        "colab_type": "code",
        "colab": {}
      },
      "cell_type": "code",
      "source": [
        "from dataloader import DataLoader"
      ],
      "execution_count": 0,
      "outputs": []
    },
    {
      "metadata": {
        "id": "KLUQ4NpZyKJN",
        "colab_type": "code",
        "colab": {}
      },
      "cell_type": "code",
      "source": [
        "DIR = \"my_dataset/EyeImages\"\n",
        "CATEGORIES = [\"closedLeftEyes\",\"closedRightEyes\",\"openLeftEyes\",\"openRightEyes\"]"
      ],
      "execution_count": 0,
      "outputs": []
    },
    {
      "metadata": {
        "id": "9IGY3vRCxwLp",
        "colab_type": "code",
        "colab": {}
      },
      "cell_type": "code",
      "source": [
        "my_data = DataLoader(DIR,CATEGORIES)"
      ],
      "execution_count": 0,
      "outputs": []
    },
    {
      "metadata": {
        "id": "bCEm59noyM-s",
        "colab_type": "code",
        "colab": {}
      },
      "cell_type": "code",
      "source": [
        "#Value of cmap can be 'rgb' or 'gray'\n",
        "X_train, X_test, y_train, y_test = my_data.create_data(cmap='rgb',test_size=0.2,random_state=42,normalize=True)"
      ],
      "execution_count": 0,
      "outputs": []
    },
    {
      "metadata": {
        "id": "3C1AjK5qzm-x",
        "colab_type": "code",
        "outputId": "8ec73b5d-5e13-4382-9253-1f7cab0e0078",
        "colab": {
          "base_uri": "https://localhost:8080/",
          "height": 34
        }
      },
      "cell_type": "code",
      "source": [
        "X_train.shape"
      ],
      "execution_count": 7,
      "outputs": [
        {
          "output_type": "execute_result",
          "data": {
            "text/plain": [
              "(3876, 24, 24, 3)"
            ]
          },
          "metadata": {
            "tags": []
          },
          "execution_count": 7
        }
      ]
    },
    {
      "metadata": {
        "id": "25U-x_EozpFo",
        "colab_type": "code",
        "outputId": "c7715a54-57ec-4cd5-d327-703f7c4cf015",
        "colab": {
          "base_uri": "https://localhost:8080/",
          "height": 34
        }
      },
      "cell_type": "code",
      "source": [
        "y_train.shape"
      ],
      "execution_count": 8,
      "outputs": [
        {
          "output_type": "execute_result",
          "data": {
            "text/plain": [
              "(3876,)"
            ]
          },
          "metadata": {
            "tags": []
          },
          "execution_count": 8
        }
      ]
    },
    {
      "metadata": {
        "id": "WIdCd-4QybND",
        "colab_type": "code",
        "outputId": "855253b1-2f6e-430f-8880-b0a040c5ebaf",
        "colab": {
          "base_uri": "https://localhost:8080/",
          "height": 541
        }
      },
      "cell_type": "code",
      "source": [
        "model = tf.keras.Sequential()\n",
        "# Must define the input shape in the first layer of the neural network\n",
        "model.add(tf.keras.layers.Conv2D(filters=64, kernel_size=(3,3), padding='same', activation='relu', input_shape=X_train.shape[1:]))\n",
        "model.add(tf.keras.layers.MaxPooling2D(pool_size=2))\n",
        "\n",
        "model.add(tf.keras.layers.Conv2D(filters=64, kernel_size=(3,3), padding='same', activation='relu'))\n",
        "model.add(tf.keras.layers.MaxPooling2D(pool_size=2))\n",
        "\n",
        "model.add(tf.keras.layers.Conv2D(filters=32, kernel_size=(3,3), padding='same', activation='relu'))\n",
        "model.add(tf.keras.layers.MaxPooling2D(pool_size=2))\n",
        "\n",
        "model.add(tf.keras.layers.Conv2D(filters=32, kernel_size=(3,3), padding='same', activation='relu'))\n",
        "\n",
        "model.add(tf.keras.layers.Flatten())\n",
        "model.add(tf.keras.layers.Dense(64, activation='relu'))\n",
        "\n",
        "model.add(tf.keras.layers.Dense(4, activation='softmax'))\n",
        "# Take a look at the model summary\n",
        "model.summary()"
      ],
      "execution_count": 9,
      "outputs": [
        {
          "output_type": "stream",
          "text": [
            "WARNING:tensorflow:From /usr/local/lib/python3.6/dist-packages/tensorflow/python/ops/resource_variable_ops.py:435: colocate_with (from tensorflow.python.framework.ops) is deprecated and will be removed in a future version.\n",
            "Instructions for updating:\n",
            "Colocations handled automatically by placer.\n",
            "_________________________________________________________________\n",
            "Layer (type)                 Output Shape              Param #   \n",
            "=================================================================\n",
            "conv2d (Conv2D)              (None, 24, 24, 64)        1792      \n",
            "_________________________________________________________________\n",
            "max_pooling2d (MaxPooling2D) (None, 12, 12, 64)        0         \n",
            "_________________________________________________________________\n",
            "conv2d_1 (Conv2D)            (None, 12, 12, 64)        36928     \n",
            "_________________________________________________________________\n",
            "max_pooling2d_1 (MaxPooling2 (None, 6, 6, 64)          0         \n",
            "_________________________________________________________________\n",
            "conv2d_2 (Conv2D)            (None, 6, 6, 32)          18464     \n",
            "_________________________________________________________________\n",
            "max_pooling2d_2 (MaxPooling2 (None, 3, 3, 32)          0         \n",
            "_________________________________________________________________\n",
            "conv2d_3 (Conv2D)            (None, 3, 3, 32)          9248      \n",
            "_________________________________________________________________\n",
            "flatten (Flatten)            (None, 288)               0         \n",
            "_________________________________________________________________\n",
            "dense (Dense)                (None, 64)                18496     \n",
            "_________________________________________________________________\n",
            "dense_1 (Dense)              (None, 4)                 260       \n",
            "=================================================================\n",
            "Total params: 85,188\n",
            "Trainable params: 85,188\n",
            "Non-trainable params: 0\n",
            "_________________________________________________________________\n"
          ],
          "name": "stdout"
        }
      ]
    },
    {
      "metadata": {
        "id": "W9QgTFXFyc25",
        "colab_type": "code",
        "colab": {}
      },
      "cell_type": "code",
      "source": [
        "model.compile(loss=tf.keras.losses.sparse_categorical_crossentropy,\n",
        "             optimizer='adam',\n",
        "             metrics=['accuracy'])"
      ],
      "execution_count": 0,
      "outputs": []
    },
    {
      "metadata": {
        "id": "fQ-1BQsEymsa",
        "colab_type": "code",
        "outputId": "786cf129-bc02-4631-a158-f61702957e78",
        "colab": {
          "base_uri": "https://localhost:8080/",
          "height": 370
        }
      },
      "cell_type": "code",
      "source": [
        "model.fit(X_train,\n",
        "         y_train,\n",
        "         batch_size=32,\n",
        "         epochs=10)"
      ],
      "execution_count": 11,
      "outputs": [
        {
          "output_type": "stream",
          "text": [
            "Epoch 1/10\n",
            "3876/3876 [==============================] - 4s 1ms/sample - loss: 1.1399 - acc: 0.4670\n",
            "Epoch 2/10\n",
            "3876/3876 [==============================] - 1s 291us/sample - loss: 0.6017 - acc: 0.7732\n",
            "Epoch 3/10\n",
            "3876/3876 [==============================] - 1s 293us/sample - loss: 0.4234 - acc: 0.8483\n",
            "Epoch 4/10\n",
            "3876/3876 [==============================] - 1s 297us/sample - loss: 0.3255 - acc: 0.8839\n",
            "Epoch 5/10\n",
            "3876/3876 [==============================] - 1s 291us/sample - loss: 0.2857 - acc: 0.8963\n",
            "Epoch 6/10\n",
            "3876/3876 [==============================] - 1s 291us/sample - loss: 0.2577 - acc: 0.9051\n",
            "Epoch 7/10\n",
            "3876/3876 [==============================] - 1s 291us/sample - loss: 0.2149 - acc: 0.9203\n",
            "Epoch 8/10\n",
            "3876/3876 [==============================] - 1s 294us/sample - loss: 0.2096 - acc: 0.9241\n",
            "Epoch 9/10\n",
            "3876/3876 [==============================] - 1s 297us/sample - loss: 0.1660 - acc: 0.9383\n",
            "Epoch 10/10\n",
            "3876/3876 [==============================] - 1s 293us/sample - loss: 0.1610 - acc: 0.9368\n"
          ],
          "name": "stdout"
        },
        {
          "output_type": "execute_result",
          "data": {
            "text/plain": [
              "<tensorflow.python.keras.callbacks.History at 0x7f7b71202400>"
            ]
          },
          "metadata": {
            "tags": []
          },
          "execution_count": 11
        }
      ]
    },
    {
      "metadata": {
        "id": "w0T87Tz1ypLP",
        "colab_type": "code",
        "outputId": "6714b959-ba46-4587-bd8b-9466d5d9b82d",
        "colab": {
          "base_uri": "https://localhost:8080/",
          "height": 50
        }
      },
      "cell_type": "code",
      "source": [
        "model.evaluate(X_test,y_test)"
      ],
      "execution_count": 12,
      "outputs": [
        {
          "output_type": "stream",
          "text": [
            "970/970 [==============================] - 0s 191us/sample - loss: 0.2971 - acc: 0.8979\n"
          ],
          "name": "stdout"
        },
        {
          "output_type": "execute_result",
          "data": {
            "text/plain": [
              "[0.29709067926886157, 0.89793813]"
            ]
          },
          "metadata": {
            "tags": []
          },
          "execution_count": 12
        }
      ]
    },
    {
      "metadata": {
        "id": "jN4ba1dIyp3j",
        "colab_type": "code",
        "colab": {}
      },
      "cell_type": "code",
      "source": [
        ""
      ],
      "execution_count": 0,
      "outputs": []
    }
  ]
}